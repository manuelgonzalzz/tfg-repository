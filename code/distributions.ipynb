{
 "cells": [
  {
   "cell_type": "code",
   "execution_count": 1,
   "metadata": {},
   "outputs": [
    {
     "name": "stdout",
     "output_type": "stream",
     "text": [
      "Welcome to JupyROOT 6.30/04\n"
     ]
    }
   ],
   "source": [
    "import ROOT as root\n",
    "import numpy as np\n",
    "import simulacion as s"
   ]
  },
  {
   "cell_type": "markdown",
   "metadata": {},
   "source": [
    "# 3. Forma de las distribuciones de uniformidad"
   ]
  },
  {
   "cell_type": "markdown",
   "metadata": {},
   "source": [
    "## Histogramas sin defecto"
   ]
  },
  {
   "cell_type": "code",
   "execution_count": 124,
   "metadata": {},
   "outputs": [],
   "source": [
    "h = []\n",
    "Cmed_list = [2232,4464,8929,17857,35714]\n",
    "nct_list = [5,10,20,40,80]"
   ]
  },
  {
   "cell_type": "code",
   "execution_count": 128,
   "metadata": {},
   "outputs": [
    {
     "name": "stdout",
     "output_type": "stream",
     "text": [
      "[1.0690745  1.07452108 1.07890413 ... 1.80994248 1.8332569  1.84043778]\n",
      "0.004963869458396343\n",
      "[0.75865503 0.76623777 0.76807928 ... 1.28807351 1.2998193  1.30400562]\n",
      "0.004980602373207482\n",
      "[0.53393484 0.53533135 0.53645459 ... 0.90576596 0.9059964  0.93489471]\n",
      "0.004737087712930805\n"
     ]
    }
   ],
   "source": [
    "\n",
    "Cmed_list = [8929,17857,35714]\n",
    "nct_list = [20,40,80]\n",
    "\n",
    "N_pix = 64\n",
    "num_cuentas = 10000\n",
    "\n",
    "for C_med, nct in zip(Cmed_list,nct_list):\n",
    "    dist = s.dist_defectos(0,0,N_pix,C_med,num_cuentas,3,11)\n",
    "    name = s.histogram_name(N_pix,nct,1)\n",
    "    hist = root.TH1D(name,'',400,0.,10.)\n",
    "    print(dist)\n",
    "    for i in range(len(dist)):\n",
    "        hist.Fill(dist[i])\n",
    "    hist.Scale(1.0/hist.Integral(),\"width\")\n",
    "    sigma=s.incertidumbre(hist,num_cuentas)\n",
    "    print(np.max(sigma))\n",
    "    for i,error in enumerate(sigma,start=1):\n",
    "        hist.SetBinError(i,error)\n",
    "    h.append(hist)\n",
    "\n"
   ]
  },
  {
   "cell_type": "code",
   "execution_count": 129,
   "metadata": {},
   "outputs": [],
   "source": [
    "graphs = []\n",
    "for hist in h:\n",
    "    graph = root.TGraphErrors(hist)\n",
    "    sigma=s.incertidumbre(hist,num_cuentas)\n",
    "    graph.SetLineColor(hist.GetMarkerColor())\n",
    "    graph.SetLineWidth(2)\n",
    "    graph.SetMarkerStyle(21)\n",
    "    graph.SetMarkerSize(1.5)\n",
    "    graphs.append(graph)"
   ]
  },
  {
   "cell_type": "code",
   "execution_count": 135,
   "metadata": {},
   "outputs": [
    {
     "name": "stderr",
     "output_type": "stream",
     "text": [
      "Info in <TCanvas::Print>: png file distribucionessindefecto.png has been created\n"
     ]
    }
   ],
   "source": [
    "root.gROOT.SetStyle(\"ATLAS\")\n",
    "root.gROOT.ForceStyle()\n",
    "canvas = root.TCanvas('', '', 1400, 1000)  # Increase width and height for higher resolution\n",
    "\n",
    "legend = root.TLegend(0.65, 0.55, 0.85, 0.85)\n",
    "legend.SetEntrySeparation(0.05)\n",
    "legend.SetBorderSize(0)\n",
    "legend.SetMargin(0.1)\n",
    "legend.AddEntry(graphs[2],\"M(64,5)\")\n",
    "legend.AddEntry(graphs[3],\"M(64,10)\")\n",
    "legend.AddEntry(graphs[4],\"M(64,20)\")\n",
    "legend.AddEntry(graphs[5],\"M(64,40)\")\n",
    "legend.AddEntry(graphs[6],\"M(64,80)\")\n",
    "legend.SetTextFont(42)  # 42 is the font code for LaTeX-compatible fonts\n",
    "legend.SetTextSize(0.03)  # Adjust the font size as needed\n",
    "\n",
    "graphs[2].SetMarkerColor(root.kBlue)\n",
    "graphs[3].SetMarkerColor(root.kRed)\n",
    "graphs[4].SetMarkerColor(root.kGreen)\n",
    "graphs[5].SetMarkerColor(root.kOrange+7)\n",
    "graphs[6].SetMarkerColor(root.kMagenta)\n",
    "\n",
    "graphs[2].SetLineColor(root.kBlue)\n",
    "graphs[3].SetLineColor(root.kRed)\n",
    "graphs[4].SetLineColor(root.kGreen)\n",
    "graphs[5].SetLineColor(root.kOrange+7)\n",
    "graphs[6].SetLineColor(root.kMagenta)\n",
    "\n",
    "\n",
    "# Draw the first TGraph with a smooth curve\n",
    "graphs[0].SetLineWidth(3)\n",
    "graphs[0].SetMarkerSize(1)\n",
    "graphs[0].Draw(\"APL\")\n",
    "\n",
    "# Draw the remaining TGraphs with smooth curves\n",
    "for i in range(1, len(graphs)):\n",
    "    graphs[i].SetLineWidth(3)\n",
    "    graphs[i].SetMarkerSize(1)\n",
    "    graphs[i].Draw(\"PL SAME\")\n",
    "\n",
    "\n",
    "# Set titles and ranges\n",
    "graphs[0].SetTitle(\"Distribuciones de uniformidad integral\")\n",
    "graphs[0].GetXaxis().SetTitle(\"Uniformidad integral\")\n",
    "graphs[0].GetYaxis().SetTitle(\"Densidad de probabilidad\")\n",
    "graphs[0].GetXaxis().SetTitleSize(0.035)  # Adjust as needed\n",
    "graphs[0].GetYaxis().SetTitleSize(0.035)  # Adjust as needed\n",
    "graphs[0].GetXaxis().CenterTitle()\n",
    "graphs[0].GetYaxis().CenterTitle()\n",
    "graphs[0].GetXaxis().SetTitleOffset(1.5) \n",
    "graphs[0].GetYaxis().SetTitleOffset(1.5)\n",
    "graphs[0].GetYaxis().SetRangeUser(0, 10)\n",
    "graphs[0].GetXaxis().SetRangeUser(0, 4)\n",
    "\n",
    "legend.Draw()\n",
    "canvas.SaveAs(\"distribucionessindefecto.png\")"
   ]
  },
  {
   "cell_type": "code",
   "execution_count": 136,
   "metadata": {},
   "outputs": [
    {
     "name": "stdout",
     "output_type": "stream",
     "text": [
      "Graphs saved to 'graphs.root'.\n"
     ]
    }
   ],
   "source": [
    "# Assuming 'graphs' is a list of TGraphErrors objects you have created and styled\n",
    "\n",
    "# Create a ROOT file to save the graphs\n",
    "file = root.TFile(\"distribucionesUI.root\", \"RECREATE\")\n",
    "\n",
    "# Loop through each graph and write it to the ROOT file\n",
    "for i, graph in enumerate(graphs):\n",
    "    graph.SetName(f\"graph_{i}\")  # Set a unique name for each graph\n",
    "    graph.Write()\n",
    "\n",
    "# Close the ROOT file\n",
    "file.Close()\n",
    "\n",
    "print(f\"Graphs saved to 'graphs.root'.\")"
   ]
  },
  {
   "cell_type": "markdown",
   "metadata": {},
   "source": [
    "## Distribuciones con defecto "
   ]
  },
  {
   "cell_type": "markdown",
   "metadata": {},
   "source": [
    "### Comparativa distintos defectos"
   ]
  },
  {
   "cell_type": "code",
   "execution_count": 146,
   "metadata": {},
   "outputs": [],
   "source": [
    "h = []"
   ]
  },
  {
   "cell_type": "code",
   "execution_count": 148,
   "metadata": {},
   "outputs": [],
   "source": [
    "Cmed = 8929\n",
    "nct = 20\n",
    "t_list = [3]\n",
    "k_list = [2,4,8]\n",
    "media = np.zeros((len(t_list),len(k_list)))\n",
    "varianza = np.zeros((len(t_list),len(k_list)))\n",
    "N_pix = 64\n",
    "num_cuentas = 20000\n",
    "\n",
    "for i in range(len(t_list)):\n",
    "    for j in range(len(k_list)):\n",
    "        t = t_list[i]\n",
    "        k = k_list[j]\n",
    "        dist = s.dist_defectos(t,k,N_pix,Cmed,num_cuentas,3,11)\n",
    "        name = s.histogram_name(N_pix,nct,1,t,k)\n",
    "        hist = root.TH1D(name,'',400,0.,10.)\n",
    "        for k in range(len(dist)):\n",
    "            hist.Fill(dist[k])\n",
    "        hist.Scale(1.0/hist.Integral(),\"width\")\n",
    "        sigma=s.incertidumbre(hist,num_cuentas)\n",
    "        for k,error in enumerate(sigma,start=1):\n",
    "            hist.SetBinError(k,error)\n",
    "        h.append(hist)\n",
    "        \n",
    "        "
   ]
  },
  {
   "cell_type": "code",
   "execution_count": 149,
   "metadata": {},
   "outputs": [],
   "source": [
    "graphs = []\n",
    "for hist in h:\n",
    "    graph = root.TGraphErrors(hist)\n",
    "    graph.SetLineColor(hist.GetMarkerColor())\n",
    "    graph.SetLineWidth(2)\n",
    "    graph.SetMarkerStyle(21)\n",
    "    graph.SetMarkerSize(1.5)\n",
    "    graphs.append(graph)"
   ]
  },
  {
   "cell_type": "code",
   "execution_count": 152,
   "metadata": {},
   "outputs": [
    {
     "name": "stderr",
     "output_type": "stream",
     "text": [
      "Info in <TCanvas::Print>: png file distribucionesdefecto.png has been created\n"
     ]
    }
   ],
   "source": [
    "root.gROOT.SetStyle(\"ATLAS\")\n",
    "root.gROOT.ForceStyle()\n",
    "canvas = root.TCanvas('', '', 1400, 1000)  # Increase width and height for higher resolution\n",
    "\n",
    "legend = root.TLegend(0.65, 0.60, 0.85, 0.90)\n",
    "legend.SetEntrySeparation(0.05)\n",
    "legend.SetBorderSize(0)\n",
    "legend.SetMargin(0.1)\n",
    "legend.AddEntry(graphs[0],\"M(64,20), D(2,2)\")\n",
    "legend.AddEntry(graphs[1],\"M(64,20), D(2,4)\")\n",
    "legend.AddEntry(graphs[2],\"M(64,20), D(2,8)\")\n",
    "legend.AddEntry(graphs[3],\"M(64,20), D(3,2)\")\n",
    "legend.AddEntry(graphs[4],\"M(64,20), D(3,4)\")\n",
    "legend.AddEntry(graphs[5],\"M(64,20), D(3,8)\")\n",
    "legend.SetTextFont(42)  # 42 is the font code for LaTeX-compatible fonts\n",
    "legend.SetTextSize(0.03)  # Adjust the font size as needed\n",
    "\n",
    "graphs[0].SetMarkerColor(root.kAzure-4)\n",
    "graphs[1].SetMarkerColor(root.kBlue)\n",
    "graphs[2].SetMarkerColor(root.kBlue+3)\n",
    "graphs[3].SetMarkerColor(root.kRed-7)\n",
    "graphs[4].SetMarkerColor(root.kRed)\n",
    "graphs[5].SetMarkerColor(root.kRed+3)\n",
    "\n",
    "graphs[0].SetLineColor(root.kAzure-4)\n",
    "graphs[1].SetLineColor(root.kBlue)\n",
    "graphs[2].SetLineColor(root.kBlue+3)\n",
    "graphs[3].SetLineColor(root.kRed-7)\n",
    "graphs[4].SetLineColor(root.kRed)\n",
    "graphs[5].SetLineColor(root.kRed+3)\n",
    "\n",
    "graphs[3].SetMarkerStyle(20)\n",
    "graphs[4].SetMarkerStyle(20)\n",
    "graphs[5].SetMarkerStyle(20)\n",
    "\n",
    "'''graphs[4].SetMarkerColor(1)\n",
    "graphs[4].SetLineColor(graphs[4].GetMarkerColor())'''\n",
    "# Draw the first TGraph with a smooth curve\n",
    "graphs[0].SetLineWidth(3)\n",
    "graphs[0].SetMarkerSize(1)\n",
    "graphs[0].Draw(\"APL\")\n",
    "\n",
    "# Draw the remaining TGraphs with smooth curves\n",
    "for i in range(1, len(graphs)):\n",
    "    graphs[i].SetLineWidth(3)\n",
    "    graphs[i].SetMarkerSize(1)\n",
    "    graphs[i].Draw(\"PL SAME\")\n",
    "\n",
    "\n",
    "# Set titles and ranges\n",
    "graphs[0].SetTitle(\"Distribuciones de uniformidad integral\")\n",
    "graphs[0].GetXaxis().SetTitle(\"Uniformidad integral\")\n",
    "graphs[0].GetYaxis().SetTitle(\"Densidad de probabilidad\")\n",
    "graphs[0].GetXaxis().SetTitleSize(0.035)  # Adjust as needed\n",
    "graphs[0].GetYaxis().SetTitleSize(0.035)  # Adjust as needed\n",
    "graphs[0].GetXaxis().CenterTitle()\n",
    "graphs[0].GetYaxis().CenterTitle()\n",
    "graphs[0].GetXaxis().SetTitleOffset(1.5) \n",
    "graphs[0].GetYaxis().SetTitleOffset(1.5)\n",
    "graphs[0].GetYaxis().SetRangeUser(0, 4)\n",
    "graphs[0].GetXaxis().SetRangeUser(0.5, 6)\n",
    "\n",
    "legend.Draw()\n",
    "canvas.SaveAs(\"distribucionesdefecto.png\")\n"
   ]
  },
  {
   "cell_type": "code",
   "execution_count": null,
   "metadata": {},
   "outputs": [],
   "source": [
    "# Assuming 'graphs' is a list of TGraphErrors objects you have created and styled\n",
    "\n",
    "# Create a ROOT file to save the graphs\n",
    "file = root.TFile(\"distribucionesDEFECTO.root\", \"RECREATE\")\n",
    "\n",
    "# Loop through each graph and write it to the ROOT file\n",
    "for i, graph in enumerate(graphs):\n",
    "    graph.SetName(f\"graph_{i}\")  # Set a unique name for each graph\n",
    "    graph.Write()\n",
    "\n",
    "# Close the ROOT file\n",
    "file.Close()\n",
    "\n",
    "print(f\"Graphs saved to 'graphs.root'.\")"
   ]
  }
 ],
 "metadata": {
  "kernelspec": {
   "display_name": "Python 3",
   "language": "python",
   "name": "python3"
  },
  "language_info": {
   "codemirror_mode": {
    "name": "ipython",
    "version": 3
   },
   "file_extension": ".py",
   "mimetype": "text/x-python",
   "name": "python",
   "nbconvert_exporter": "python",
   "pygments_lexer": "ipython3",
   "version": "3.10.12"
  }
 },
 "nbformat": 4,
 "nbformat_minor": 2
}
