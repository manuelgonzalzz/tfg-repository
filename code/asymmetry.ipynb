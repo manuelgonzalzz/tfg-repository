{
 "cells": [
  {
   "cell_type": "code",
   "execution_count": 1,
   "metadata": {},
   "outputs": [
    {
     "name": "stdout",
     "output_type": "stream",
     "text": [
      "Welcome to JupyROOT 6.30/04\n"
     ]
    }
   ],
   "source": [
    "import ROOT as root\n",
    "import numpy as np\n",
    "import simulacion as s"
   ]
  },
  {
   "cell_type": "markdown",
   "metadata": {},
   "source": [
    "# Evaluate Fisher Coefficient"
   ]
  },
  {
   "cell_type": "code",
   "execution_count": 10,
   "metadata": {},
   "outputs": [
    {
     "name": "stdout",
     "output_type": "stream",
     "text": [
      "0.5096251345057279\n",
      "0.5392238015227344\n",
      "0.5265884132861404\n",
      "0.6082400214445671\n",
      "0.7118632735228005\n",
      "0.459975786353694\n",
      "0.25049864007068195\n",
      "0.13584950182208527\n",
      "0.08073476938586419\n",
      "0.09252388612148742\n",
      "0.0709691028887309\n",
      "0.08728178115001911\n",
      "0.0863379968640659\n",
      "0.07728619103122654\n",
      "0.05504190057492188\n",
      "0.07507377842655524\n",
      "0.008894757527865685\n",
      "0.04606517094393156\n",
      "0.04938378216513709\n",
      "0.0436928320564638\n",
      "0.06677301729809237\n",
      "0.02449122426465051\n"
     ]
    }
   ],
   "source": [
    "#Read histograms\n",
    "Npix = 64\n",
    "nct = 20\n",
    "t_list = [2]\n",
    "k_list=[0,0.5,1,1.5,2,2.5,3,3.5,4,4.5,5,5.5,6,6.5,7,7.5,8,8.5,9,9.5,10]\n",
    "\n",
    "t=3\n",
    "k=2\n",
    "for t in t_list:\n",
    "    for k in k_list:\n",
    "        file_path = \"./histogramas/64x64/\"\n",
    "        name = s.histogram_name(Npix,nct,1,t,k)\n",
    "        file = root.TFile(file_path+name)\n",
    "        hist = file.Get(name)\n",
    "        fisher = hist.GetSkewness()\n",
    "        print(fisher)\n",
    "N = 10000\n",
    "error = np.sqrt(6*N*(N-1)/((N-2)*(N+1)*(N+3)))\n",
    "print(error)"
   ]
  }
 ],
 "metadata": {
  "kernelspec": {
   "display_name": "Python 3",
   "language": "python",
   "name": "python3"
  },
  "language_info": {
   "codemirror_mode": {
    "name": "ipython",
    "version": 3
   },
   "file_extension": ".py",
   "mimetype": "text/x-python",
   "name": "python",
   "nbconvert_exporter": "python",
   "pygments_lexer": "ipython3",
   "version": "3.10.12"
  }
 },
 "nbformat": 4,
 "nbformat_minor": 2
}
