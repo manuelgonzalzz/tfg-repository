{
 "cells": [
  {
   "cell_type": "code",
   "execution_count": 4,
   "metadata": {},
   "outputs": [
    {
     "name": "stdout",
     "output_type": "stream",
     "text": [
      "Welcome to JupyROOT 6.30/04\n"
     ]
    }
   ],
   "source": [
    "import simulacion as s\n",
    "import numpy as np\n",
    "import ROOT as root\n",
    "import matplotlib.pyplot as plt"
   ]
  },
  {
   "cell_type": "markdown",
   "metadata": {},
   "source": [
    "**Grafica 1: Histogramas sanos y defectuosos**\n",
    "Grafica con 3 histogramas sanos (10,20,40) nct y 3 defectuosos (t=2,k=2)"
   ]
  },
  {
   "cell_type": "code",
   "execution_count": 210,
   "metadata": {},
   "outputs": [],
   "source": [
    "histogramas_sanos =[]\n",
    "histogramas_defecto=[]"
   ]
  },
  {
   "cell_type": "code",
   "execution_count": 211,
   "metadata": {},
   "outputs": [
    {
     "name": "stderr",
     "output_type": "stream",
     "text": [
      "Warning in <TROOT::Append>: Replacing existing TH1: 064-20-f1-0-0.root (Potential memory leak).\n"
     ]
    }
   ],
   "source": [
    "C_med = 8929\n",
    "nct = 20\n",
    "\n",
    "N_pix = 64\n",
    "num_cuentas = 10000\n",
    "\n",
    "\n",
    "dist = s.dist(N_pix,C_med,num_cuentas,3,11)\n",
    "name = s.histogram_name(N_pix,nct,1)\n",
    "hist = root.TH1D(name,'',400,0.,10.)\n",
    "for i in range(len(dist)):\n",
    "    hist.Fill(dist[i])\n",
    "hist.Scale(1/hist.Integral())\n",
    "sigma=s.incertidumbre(hist,num_cuentas)\n",
    "for i,error in enumerate(sigma,start=1):\n",
    "    hist.SetBinError(i,error)\n",
    "histogramas_sanos.append(hist)\n",
    "\n",
    "        \n",
    "     \n",
    "        \n",
    "       "
   ]
  },
  {
   "cell_type": "code",
   "execution_count": null,
   "metadata": {},
   "outputs": [],
   "source": []
  },
  {
   "cell_type": "code",
   "execution_count": 138,
   "metadata": {},
   "outputs": [],
   "source": [
    "N_pix = 64\n",
    "C_med = 8929\n",
    "num_cuentas = 10000\n",
    "nct_list=[20]\n",
    "sizes = [1,5]\n",
    "contrasts = [4,8]\n",
    "for nct in nct_list:\n",
    "    for t in sizes:\n",
    "        for k in contrasts:\n",
    "            dist = s.dist_defectos(t,k,N_pix,C_med,num_cuentas,3,11)\n",
    "            name=s.histogram_name(N_pix,nct,1,t,k)\n",
    "            hist=root.TH1D(name,'',400,0.,10.)\n",
    "            for i in range(len(dist)):\n",
    "                hist.Fill(dist[i])\n",
    "            hist.Scale(1/hist.Integral())\n",
    "            sigma=s.incertidumbre(hist,num_cuentas)\n",
    "            for i,error in enumerate(sigma,start=1):\n",
    "                hist.SetBinError(i,error)\n",
    "            histogramas_defecto.append(hist)"
   ]
  },
  {
   "cell_type": "code",
   "execution_count": 212,
   "metadata": {},
   "outputs": [
    {
     "data": {
      "text/plain": [
       "4"
      ]
     },
     "execution_count": 212,
     "metadata": {},
     "output_type": "execute_result"
    }
   ],
   "source": [
    "len(histogramas_sanos)\n",
    "len(histogramas_defecto)"
   ]
  },
  {
   "cell_type": "code",
   "execution_count": 105,
   "metadata": {},
   "outputs": [],
   "source": []
  },
  {
   "cell_type": "code",
   "execution_count": 235,
   "metadata": {},
   "outputs": [
    {
     "data": {
      "image/png": "[encoded data removed]",
      "text/plain": [
       "<IPython.core.display.Image object>"
      ]
     },
     "metadata": {},
     "output_type": "display_data"
    }
   ],
   "source": [
    "hsano = histogramas_sanos[0]\n",
    "root.gROOT.SetStyle(\"ATLAS\")\n",
    "root.gROOT.ForceStyle()\n",
    "canvas = root.TCanvas('','',700,600)\n",
    " \n",
    "hsano.SetLineColor(root.kBlue)\n",
    "hsano.SetMarkerStyle(24)\n",
    "hsano.SetMarkerColor(root.kBlue)\n",
    "hsano.SetTitle(\"Histogramas 20 millones de cuentas totales - 64 x 64 pix.\")\n",
    "hsano.GetXaxis().SetTitle(\"Uniformidad Integral\")\n",
    "hsano.GetYaxis().SetTitle(\"Frecuencia Relativa\")\n",
    "hsano.GetXaxis().SetTitleSize(0.035)  # Adjust as needed\n",
    "hsano.GetYaxis().SetTitleSize(0.035)  # Adjust as needed\n",
    "hsano.SetStats(0)\n",
    "hsano.Draw()\n",
    "\n",
    "\n",
    "\n",
    "\n",
    "histogramas_defecto[1].SetLineColor(root.kRed)\n",
    "histogramas_defecto[1].SetMarkerStyle(25)\n",
    "histogramas_defecto[1].SetMarkerColor(root.kRed)\n",
    "histogramas_defecto[2].SetLineColor(root.kGreen)\n",
    "histogramas_defecto[2].SetMarkerStyle(25)\n",
    "histogramas_defecto[2].SetMarkerColor(root.kGreen)\n",
    "\n",
    "\n",
    "\n",
    "histogramas_defecto[1].Draw(\"SAME\")\n",
    "histogramas_defecto[2].Draw(\"SAME\")\n",
    "\n",
    "\n",
    "legend = root.TLegend(0.5,0.6,0.9,0.8)\n",
    "legend.SetEntrySeparation(0.05)\n",
    "legend.SetBorderSize(0)\n",
    "legend.SetMargin(0.1)\n",
    "legend.AddEntry(hsano,\"N=64, nct=20mc\")\n",
    "legend.AddEntry(histogramas_defecto[1],\"N=64, nct = 20mc, t=1, k=8\")\n",
    "legend.AddEntry(histogramas_defecto[2],\"N=64, nct = 20mc, t=5, k=4\")\n",
    "legend.SetTextFont(42)  # 42 is the font code for LaTeX-compatible fonts\n",
    "legend.SetTextSize(0.03)  # Adjust the font size as needed\n",
    "legend.Draw()\n",
    "\n",
    "\n",
    "\n",
    "canvas.Draw()"
   ]
  },
  {
   "cell_type": "code",
   "execution_count": 1,
   "metadata": {},
   "outputs": [],
   "source": [
    "graphs = []"
   ]
  },
  {
   "cell_type": "code",
   "execution_count": 23,
   "metadata": {},
   "outputs": [],
   "source": [
    "Npix = 64\n",
    "nct = 80\n",
    "t = 2\n",
    "k = 2\n",
    "\n",
    "x,y,xe,ye = s.curvaroc(Npix,nct,t,k,False)\n",
    "roc = root.TGraphErrors(400)\n",
    "for i in range(400):\n",
    "    roc.SetPoint(i,x[i],y[i])\n",
    "    roc.SetPointError(i,xe[i],ye[i])\n",
    "roc.SetTitle(\"Receiver Operating Characteristic (ROC)\")\n",
    "roc.GetXaxis().SetTitle(\"False Positive Rate\")\n",
    "roc.GetYaxis().SetTitle(\"True Positive Rate\")\n",
    "canvas = root.TCanvas('','',800,600)   \n",
    "roc.SetMarkerColor(root.kOrange+7)\n",
    "roc.SetLineColor(root.kOrange+7)\n",
    "roc.SetMarkerStyle(24)\n",
    "\n",
    "\n",
    "graphs.append(roc)"
   ]
  },
  {
   "cell_type": "code",
   "execution_count": 73,
   "metadata": {},
   "outputs": [],
   "source": [
    "legend = root.TLegend(0.6,0.25,0.9,0.55)\n",
    "legend.SetEntrySeparation(0.05)\n",
    "legend.SetBorderSize(0)\n",
    "legend.SetMargin(0.1)\n",
    "legend.AddEntry(graphs[0],\"N=64, nct=5, t=2, t=2\")\n",
    "legend.AddEntry(graphs[1],\"N=64, nct=10, t=2, t=2\")\n",
    "legend.AddEntry(graphs[2],\"N=64, nct=20, t=2, t=2\")\n",
    "legend.AddEntry(graphs[3],\"N=64, nct=40, t=2, t=2\")\n",
    "legend.AddEntry(graphs[4],\"N=64, nct=80, t=2, t=2\")\n",
    "legend.SetTextFont(42)  # 42 is the font code for LaTeX-compatible fonts\n",
    "legend.SetTextSize(0.03)  # Adjust the font size as needed"
   ]
  },
  {
   "cell_type": "code",
   "execution_count": 100,
   "metadata": {},
   "outputs": [
    {
     "data": {
      "image/png": "[encoded data removed]",
      "text/plain": [
       "<IPython.core.display.Image object>"
      ]
     },
     "metadata": {},
     "output_type": "display_data"
    }
   ],
   "source": [
    "root.gROOT.SetStyle(\"ATLAS\")\n",
    "root.gROOT.ForceStyle()\n",
    "canvas = root.TCanvas('','',700,600)\n",
    "\n",
    "graphs[0].SetTitle(\"Receiver Operating Characteristic (ROC)\")\n",
    "graphs[0].GetXaxis().SetTitle(\"Falsos Positivos - FFP\")\n",
    "graphs[0].GetYaxis().SetTitle(\"Verdaderos Positivos - FVP\")\n",
    "graphs[0].GetXaxis().SetTitleSize(0.035)  # Adjust as needed\n",
    "graphs[0].GetYaxis().SetTitleSize(0.035)  # Adjust as needed\n",
    "graphs[0].GetXaxis().CenterTitle()\n",
    "graphs[0].GetYaxis().CenterTitle()\n",
    "graphs[0].GetXaxis().SetTitleOffset(1.5) \n",
    "graphs[0].GetYaxis().SetTitleOffset(1.5) \n",
    "\n",
    "for i in range(len(graphs)):\n",
    "    graphs[i].SetMarkerStyle(21)\n",
    "    graphs[i].SetMarkerSize(0.9)\n",
    "\n",
    "graphs[0].Draw(\"APX\")\n",
    "graphs[1].Draw(\"PX SAME\")\n",
    "graphs[2].Draw(\"PX SAME\")\n",
    "graphs[3].Draw(\"PX SAME\")\n",
    "graphs[4].Draw(\"PX SAME\")\n",
    "\n",
    "legend.Draw()\n",
    "canvas.Draw()   "
   ]
  },
  {
   "cell_type": "code",
   "execution_count": 5,
   "metadata": {},
   "outputs": [],
   "source": [
    "graphs = []\n",
    "ajustes = []"
   ]
  },
  {
   "cell_type": "code",
   "execution_count": 11,
   "metadata": {},
   "outputs": [
    {
     "data": {
      "text/plain": [
       "(0.49209673000000004, 0.001146124892740475)"
      ]
     },
     "execution_count": 11,
     "metadata": {},
     "output_type": "execute_result"
    }
   ],
   "source": [
    "x,y,xe,ye = s.curvaroc(64,5,2,1)\n",
    "s.montecarlo_trapecio(x,y,xe,ye)"
   ]
  },
  {
   "cell_type": "code",
   "execution_count": 6,
   "metadata": {},
   "outputs": [
    {
     "name": "stdout",
     "output_type": "stream",
     "text": [
      "****************************************\n",
      "Minimizer is Linear / Migrad\n",
      "Chi2                      =      0.13479\n",
      "NDf                       =           12\n",
      "p0                        =      6.18163   +/-   0.0922873   \n",
      "p1                        =     -1.01036   +/-   0.0140533   \n",
      "****************************************\n",
      "Minimizer is Linear / Migrad\n",
      "Chi2                      =    0.0782356\n",
      "NDf                       =            4\n",
      "p0                        =      5.70566   +/-   0.160911    \n",
      "p1                        =     -2.51727   +/-   0.0668626   \n",
      "****************************************\n",
      "Minimizer is Linear / Migrad\n",
      "Chi2                      =   0.00125404\n",
      "NDf                       =            1\n",
      "p0                        =      5.35047   +/-   0.0778536   \n",
      "p1                        =     -3.72163   +/-   0.0500807   \n",
      "****************************************\n",
      "Minimizer is Linear / Migrad\n",
      "Chi2                      =    0.0468549\n",
      "NDf                       =            2\n",
      "p0                        =      5.47224   +/-   0.18746     \n",
      "p1                        =     -4.54472   +/-   0.136901    \n",
      "****************************************\n",
      "Minimizer is Linear / Migrad\n",
      "Chi2                      =  0.000124043\n",
      "NDf                       =            1\n",
      "p0                        =      4.88907   +/-   0.0170127   \n",
      "p1                        =     -4.74674   +/-   0.0157507   \n"
     ]
    }
   ],
   "source": [
    "Npix = 64\n",
    "nct = 20\n",
    "t_list = [1,2,3,4,5]\n",
    "color_list = [root.kBlue,root.kRed,root.kGreen,root.kCyan,root.kOrange+7]\n",
    "for t,color in zip(t_list,color_list):\n",
    "    x,y,xe,ye = s.areacontraste(Npix,nct,t)\n",
    "    ac = root.TGraphErrors(20)\n",
    "    for i in range(20):\n",
    "        ac.SetPoint(i,x[i],y[i])\n",
    "        ac.SetPointError(i,xe[i],ye[i])\n",
    "    a,b = s.ajuste_ac(x,y)\n",
    "    ajuste = root.TGraph(10000)\n",
    "    x_fit = np.zeros(10000)\n",
    "    y_fit = np.zeros(10000)\n",
    "    for i in range(10000):\n",
    "        x_fit[i] = i*10/10000\n",
    "        y_fit[i] = 0.5*(1+1/(1+np.exp(a+b*x_fit[i])))\n",
    "        ajuste.SetPoint(i,x_fit[i],y_fit[i])\n",
    "    ajuste.SetLineColor(color-1)\n",
    "    ac.SetTitle(\"Curvas Area-Contraste\")\n",
    "    ac.GetXaxis().SetTitle(\"Contaste del defecto - k\")\n",
    "    ac.GetYaxis().SetTitle(\"AUC\")\n",
    "    canvas = root.TCanvas('','',800,600)   \n",
    "    ac.SetMarkerColor(color)\n",
    "    ac.SetLineColor(color)\n",
    "    ac.SetMarkerStyle(24)\n",
    "    ajustes.append(ajuste)\n",
    "    graphs.append(ac)\n"
   ]
  },
  {
   "cell_type": "code",
   "execution_count": 11,
   "metadata": {},
   "outputs": [],
   "source": [
    "legend = root.TLegend(0.65,0.25,0.95,0.55)\n",
    "legend.SetEntrySeparation(0.05)\n",
    "legend.SetBorderSize(0)\n",
    "legend.SetMargin(0.1)\n",
    "legend.AddEntry(graphs[0],\"N=64, nct=20, t=1\")\n",
    "legend.AddEntry(graphs[1],\"N=64, nct=20, t=2\")\n",
    "legend.AddEntry(graphs[2],\"N=64, nct=20, t=3\")\n",
    "legend.AddEntry(graphs[3],\"N=64, nct=20, t=4\")\n",
    "legend.AddEntry(graphs[4],\"N=64, nct=20, t=5\")\n",
    "legend.SetTextFont(42)  # 42 is the font code for LaTeX-compatible fonts\n",
    "legend.SetTextSize(0.03)  # Adjust the font size as needed"
   ]
  },
  {
   "cell_type": "code",
   "execution_count": null,
   "metadata": {},
   "outputs": [],
   "source": [
    "\n",
    "\n",
    "s.ajuste_ac()"
   ]
  },
  {
   "cell_type": "code",
   "execution_count": 12,
   "metadata": {},
   "outputs": [
    {
     "data": {
      "image/png": "[encoded data removed]",
      "text/plain": [
       "<IPython.core.display.Image object>"
      ]
     },
     "metadata": {},
     "output_type": "display_data"
    }
   ],
   "source": [
    "root.gROOT.SetStyle(\"ATLAS\")\n",
    "root.gROOT.ForceStyle()\n",
    "canvas = root.TCanvas('','',700,600)\n",
    "\n",
    "graphs[0].SetTitle(\"Curvas Area-Contraste\")\n",
    "graphs[0].GetXaxis().SetTitle(\"Contaste del defecto - k\")\n",
    "graphs[0].GetYaxis().SetTitle(\"AUC\")\n",
    "graphs[0].GetXaxis().SetTitleSize(0.035)  # Adjust as needed\n",
    "graphs[0].GetYaxis().SetTitleSize(0.035)  # Adjust as needed\n",
    "graphs[0].GetXaxis().CenterTitle()\n",
    "graphs[0].GetYaxis().CenterTitle()\n",
    "graphs[0].GetXaxis().SetTitleOffset(1.5) \n",
    "graphs[0].GetYaxis().SetTitleOffset(1.5) \n",
    "\n",
    "for i in range(len(graphs)):\n",
    "    graphs[i].SetMarkerStyle(25)\n",
    "    graphs[i].SetMarkerSize(1)\n",
    "\n",
    "graphs[0].Draw(\"APX\")\n",
    "graphs[1].Draw(\"PX SAME\")\n",
    "graphs[2].Draw(\"PX SAME\")\n",
    "graphs[3].Draw(\"PX SAME\")\n",
    "graphs[4].Draw(\"PX SAME\")\n",
    "ajustes[0].Draw(\"SAME\")\n",
    "ajustes[1].Draw(\"SAME\")\n",
    "ajustes[2].Draw(\"SAME\")\n",
    "ajustes[3].Draw(\"SAME\")\n",
    "ajustes[4].Draw(\"SAME\")\n",
    "\n",
    "legend.Draw()\n",
    "canvas.Draw() \n"
   ]
  }
 ],
 "metadata": {
  "kernelspec": {
   "display_name": "Python 3",
   "language": "python",
   "name": "python3"
  },
  "language_info": {
   "codemirror_mode": {
    "name": "ipython",
    "version": 3
   },
   "file_extension": ".py",
   "mimetype": "text/x-python",
   "name": "python",
   "nbconvert_exporter": "python",
   "pygments_lexer": "ipython3",
   "version": "3.10.12"
  }
 },
 "nbformat": 4,
 "nbformat_minor": 2
}
