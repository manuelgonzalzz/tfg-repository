{
 "cells": [
  {
   "cell_type": "markdown",
   "metadata": {},
   "source": [
    "**GENERAR MATRICES CON DISTINTOS DEFECTOS**"
   ]
  },
  {
   "cell_type": "code",
   "execution_count": 2,
   "metadata": {},
   "outputs": [
    {
     "name": "stdout",
     "output_type": "stream",
     "text": [
      "Welcome to JupyROOT 6.30/04\n"
     ]
    }
   ],
   "source": [
    "import numpy as np\n",
    "import matplotlib.pyplot as plt\n",
    "import ROOT as root\n",
    "import simulacion as s"
   ]
  },
  {
   "cell_type": "code",
   "execution_count": 3,
   "metadata": {},
   "outputs": [
    {
     "data": {
      "text/plain": [
       "\"def histogram_name(N_pix,nct,filtro,t=0,k=0):\\n    N_pix = str(int(N_pix))\\n    if len(N_pix)<3:\\n        N_pix = '0'+N_pix\\n    \\n    nct = str(int(nct))\\n    filtro = str(int(filtro))\\n    t = str(t)\\n    k= str(k*10)\\n    name = N_pix + '-f' + filtro + '-' + t + '-' + k\\n    return name\\n\""
      ]
     },
     "execution_count": 3,
     "metadata": {},
     "output_type": "execute_result"
    }
   ],
   "source": [
    "'''def histogram_name(N_pix,nct,filtro,t=0,k=0):\n",
    "    N_pix = str(int(N_pix))\n",
    "    if len(N_pix)<3:\n",
    "        N_pix = '0'+N_pix\n",
    "    \n",
    "    nct = str(int(nct))\n",
    "    filtro = str(int(filtro))\n",
    "    t = str(t)\n",
    "    k= str(k*10)\n",
    "    name = N_pix + '-f' + filtro + '-' + t + '-' + k\n",
    "    return name\n",
    "'''"
   ]
  },
  {
   "cell_type": "markdown",
   "metadata": {},
   "source": [
    "**N_pix = 64; C_med=8929; 20 Millones de cuentas**"
   ]
  },
  {
   "cell_type": "code",
   "execution_count": 3,
   "metadata": {},
   "outputs": [],
   "source": [
    "N_pix = 64\n",
    "C_med = 8929\n",
    "num_cuentas = 10000\n",
    "nct=20\n",
    "sizes = [1,2,3,4,5]\n",
    "contrasts = [1.5,2.5,3.5,4.5,5.5,6.5,7.5,8.5,9.5]\n",
    "for t in sizes:\n",
    "    for k in contrasts:\n",
    "        dist = s.dist_defectos(t,k,N_pix,C_med,num_cuentas,3,11)\n",
    "        name=s.histogram_name(N_pix,nct,1,t,k)\n",
    "        hist=root.TH1D(name,'',400,0.,10.)\n",
    "        for i in range(len(dist)):\n",
    "            hist.Fill(dist[i])\n",
    "        hist.Scale(1/hist.Integral())\n",
    "        sigma=s.incertidumbre(hist,num_cuentas)\n",
    "        for i,error in enumerate(sigma,start=1):\n",
    "            hist.SetBinError(i,error)\n",
    "        file = root.TFile(name,\"RECREATE\")\n",
    "        hist.Write()\n",
    "        file.Close()\n",
    "\n",
    "\n",
    "\n"
   ]
  },
  {
   "cell_type": "code",
   "execution_count": null,
   "metadata": {},
   "outputs": [],
   "source": []
  },
  {
   "cell_type": "code",
   "execution_count": 7,
   "metadata": {},
   "outputs": [],
   "source": [
    "list_C_med = [8929]\n",
    "list_nct = [20]\n",
    "\n",
    "N_pix = 64\n",
    "C_med = 8929\n",
    "num_cuentas = 10000\n",
    "nct = 20\n",
    "\n",
    "for C_med,nct in zip(list_C_med,list_nct):\n",
    "\n",
    "    dist = s.dist(N_pix,C_med,num_cuentas,3,11)\n",
    "    name = s.histogram_name(N_pix,nct,1)\n",
    "    hist = root.TH1D(name,'',400,0.,10.)\n",
    "    for i in range(len(dist)):\n",
    "        hist.Fill(dist[i])\n",
    "    hist.Scale(1/hist.Integral())\n",
    "    sigma=s.incertidumbre(hist,num_cuentas)\n",
    "    for i,error in enumerate(sigma,start=1):\n",
    "        hist.SetBinError(i,error)\n",
    "    file = root.TFile(name,\"RECREATE\")\n",
    "    hist.Write()\n",
    "    file.Close()\n"
   ]
  },
  {
   "cell_type": "code",
   "execution_count": 6,
   "metadata": {},
   "outputs": [],
   "source": [
    "N_pix = 64\n",
    "C_med = 8929\n",
    "num_cuentas = 10000\n",
    "nct=20\n",
    "\n",
    "name_s = s.histogram_name(N_pix,nct,C_med,False)\n",
    "file_s = root.TFile(name_s)\n",
    "hist = file_s.Get(name_s)\n"
   ]
  },
  {
   "cell_type": "markdown",
   "metadata": {},
   "source": [
    "**GENERAR MATRICES SANAS**"
   ]
  },
  {
   "cell_type": "code",
   "execution_count": null,
   "metadata": {},
   "outputs": [],
   "source": [
    "#Genero 10^5 matrices sanas? No creo que sea esa la solución\n",
    "# Paso tio"
   ]
  },
  {
   "cell_type": "markdown",
   "metadata": {},
   "source": [
    "**AREA - CONTRASTE**"
   ]
  },
  {
   "cell_type": "code",
   "execution_count": null,
   "metadata": {},
   "outputs": [],
   "source": []
  }
 ],
 "metadata": {
  "kernelspec": {
   "display_name": "Python 3",
   "language": "python",
   "name": "python3"
  },
  "language_info": {
   "codemirror_mode": {
    "name": "ipython",
    "version": 3
   },
   "file_extension": ".py",
   "mimetype": "text/x-python",
   "name": "python",
   "nbconvert_exporter": "python",
   "pygments_lexer": "ipython3",
   "version": "3.10.12"
  }
 },
 "nbformat": 4,
 "nbformat_minor": 2
}
